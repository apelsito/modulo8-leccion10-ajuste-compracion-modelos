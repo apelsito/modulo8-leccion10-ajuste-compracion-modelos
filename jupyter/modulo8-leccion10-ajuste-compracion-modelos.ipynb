{
 "cells": [
  {
   "cell_type": "markdown",
   "metadata": {},
   "source": [
    "<div style=\"text-align: center;\">\n",
    "  <img src=\"https://github.com/Hack-io-Data/Imagenes/blob/main/01-LogosHackio/logo_naranja@4x.png?raw=true\" alt=\"esquema\" />\n",
    "</div>\n",
    "\n",
    "# Construcción y Comparación de Modelos de Clasificación\n",
    "\n",
    "El objetivo de esta práctica es construir múltiples modelos de clasificación para predecir la probabilidad de que una transacción sea fraudulenta. Además de implementar los modelos, deberás analizar y comparar las métricas obtenidas para seleccionar el modelo que mejor se ajuste al problema. En este laboratorio deberás: \n",
    "\n",
    "\n",
    "\n",
    "- Entrenar al menos tres modelos diferentes de clasificación, como:\n",
    "\n",
    "   - **Regresión logística**\n",
    "\n",
    "   - **Árboles de decisión**\n",
    "\n",
    "   - **Bosques aleatorios**\n",
    "\n",
    "   - etc.\n",
    "\n",
    "\n",
    "- Obtener las siguientes métricas para cada modelo:\n",
    "\n",
    "   - Precisión\n",
    "\n",
    "   - Recall (Sensibilidad)\n",
    "\n",
    "   - F1-Score\n",
    "\n",
    "   - Área bajo la curva ROC (AUC-ROC)\n",
    "\n",
    "   - Matriz de confusión\n",
    "\n",
    "   - Accuracy\n",
    "\n",
    "- Visualizar y comparar estas métricas en gráficos claros y explicativos.\n",
    "\n",
    "\n",
    "- Analizar las métricas de rendimiento de cada modelo.\n",
    "\n",
    "- Justificar la selección del modelo más adecuado en función del equilibrio entre precisión y recall, así como la interpretación del área bajo la curva ROC.\n"
   ]
  },
  {
   "cell_type": "markdown",
   "metadata": {},
   "source": []
  }
 ],
 "metadata": {
  "language_info": {
   "name": "python"
  }
 },
 "nbformat": 4,
 "nbformat_minor": 2
}
