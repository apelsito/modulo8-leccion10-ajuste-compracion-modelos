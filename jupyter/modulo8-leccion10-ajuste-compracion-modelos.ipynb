{
 "cells": [
  {
   "cell_type": "markdown",
   "metadata": {},
   "source": [
    "<div style=\"text-align: center;\">\n",
    "  <img src=\"https://github.com/Hack-io-Data/Imagenes/blob/main/01-LogosHackio/logo_naranja@4x.png?raw=true\" alt=\"esquema\" />\n",
    "</div>\n",
    "\n",
    "# Construcción y Comparación de Modelos de Clasificación\n",
    "\n",
    "El objetivo de esta práctica es construir múltiples modelos de clasificación para predecir la probabilidad de que una transacción sea fraudulenta. Además de implementar los modelos, deberás analizar y comparar las métricas obtenidas para seleccionar el modelo que mejor se ajuste al problema. En este laboratorio deberás: \n",
    "\n",
    "\n",
    "\n",
    "- Entrenar al menos tres modelos diferentes de clasificación, como:\n",
    "\n",
    "   - **Regresión logística**\n",
    "\n",
    "   - **Árboles de decisión**\n",
    "\n",
    "   - **Bosques aleatorios**\n",
    "\n",
    "   - etc.\n",
    "\n",
    "\n",
    "- Obtener las siguientes métricas para cada modelo:\n",
    "\n",
    "   - Precisión\n",
    "\n",
    "   - Recall (Sensibilidad)\n",
    "\n",
    "   - F1-Score\n",
    "\n",
    "   - Área bajo la curva ROC (AUC-ROC)\n",
    "\n",
    "   - Matriz de confusión\n",
    "\n",
    "   - Accuracy\n",
    "\n",
    "- Visualizar y comparar estas métricas en gráficos claros y explicativos.\n",
    "\n",
    "\n",
    "- Analizar las métricas de rendimiento de cada modelo.\n",
    "\n",
    "- Justificar la selección del modelo más adecuado en función del equilibrio entre precisión y recall, así como la interpretación del área bajo la curva ROC.\n"
   ]
  },
  {
   "cell_type": "code",
   "execution_count": 1,
   "metadata": {},
   "outputs": [
    {
     "name": "stderr",
     "output_type": "stream",
     "text": [
      "C:\\Users\\ruipe\\AppData\\Local\\Packages\\PythonSoftwareFoundation.Python.3.11_qbz5n2kfra8p0\\LocalCache\\local-packages\\Python311\\site-packages\\tqdm\\auto.py:21: TqdmWarning: IProgress not found. Please update jupyter and ipywidgets. See https://ipywidgets.readthedocs.io/en/stable/user_install.html\n",
      "  from .autonotebook import tqdm as notebook_tqdm\n"
     ]
    }
   ],
   "source": [
    "# Tratamiento de datos\n",
    "# -----------------------------------------------------------------------\n",
    "import pandas as pd\n",
    "import sys\n",
    "sys.path.append(\"../\")\n",
    "# Importamos nuestras funciones\n",
    "# -----------------------------------------------------------------------\n",
    "from src import  soporte_ajuste_logistica as sal\n",
    "\n",
    "\n",
    "# Configuración\n",
    "# -----------------------------------------------------------------------\n",
    "pd.set_option('display.max_columns', None) # para poder visualizar todas las columnas de los DataFrames\n",
    "\n",
    "# Ignorar los warnings\n",
    "# -----------------------------------------------------------------------\n",
    "import warnings\n",
    "warnings.filterwarnings('ignore')\n",
    "\n",
    "# Visualizaciones\n",
    "# -----------------------------------------------------------------------\n",
    "import seaborn as sns\n",
    "import matplotlib.pyplot as plt\n",
    "\n",
    "# Para realizar la clasificación y la evaluación del modelo\n",
    "# -----------------------------------------------------------------------\n",
    "from sklearn.linear_model import LogisticRegression\n",
    "from sklearn.metrics import roc_curve\n",
    "from sklearn.model_selection import train_test_split, learning_curve, GridSearchCV, cross_val_score, StratifiedKFold, KFold\n",
    "from sklearn.metrics import accuracy_score, precision_score, recall_score, f1_score, confusion_matrix\n",
    "\n",
    "import pickle\n",
    "from category_encoders import TargetEncoder\n",
    "from sklearn.preprocessing import OneHotEncoder, OrdinalEncoder, LabelEncoder\n",
    "from sklearn.preprocessing import MinMaxScaler, Normalizer, StandardScaler, RobustScaler\n",
    "from itertools import product , combinations\n",
    "from sklearn.experimental import enable_iterative_imputer  # Necesario para habilitar IterativeImputer\n",
    "from sklearn.impute import IterativeImputer\n",
    "from sklearn.ensemble import RandomForestRegressor\n",
    "from sklearn.linear_model import LogisticRegression"
   ]
  },
  {
   "cell_type": "code",
   "execution_count": 2,
   "metadata": {},
   "outputs": [],
   "source": [
    "df = pd.read_pickle(\"../datos/datos_preprocesados.pkl\")"
   ]
  },
  {
   "cell_type": "markdown",
   "metadata": {},
   "source": [
    "# Regresion Logística"
   ]
  },
  {
   "cell_type": "code",
   "execution_count": null,
   "metadata": {},
   "outputs": [],
   "source": [
    "params_logistic = {\n",
    "    'penalty': ['l1', 'l2', 'elasticnet', 'none'],\n",
    "    'C': [0.005, 0.01,0.05, 0.1, 1, 10, 100],\n",
    "    'solver': ['liblinear', 'saga'],\n",
    "    'max_iter': [10,20,40,100,150]\n",
    "}"
   ]
  },
  {
   "cell_type": "code",
   "execution_count": null,
   "metadata": {},
   "outputs": [],
   "source": [
    "# instanciamos la clase de regresión logistica\n",
    "logistica = sal.AnalisisModelosClasificacion(dataframe = df, variable_dependiente = \"is_fraudulent\",train_size=0.8)\n",
    "\n",
    "# llamamos a la función para ajustar el modelo\n",
    "logistica.ajustar_modelo(\"logistic_regression\",param_grid = params_logistic,ruta_guardar_modelo=\"../datos/modelos-encoders/\",nombre_modelo_guardar=\"logistic_model.pkl\")"
   ]
  },
  {
   "cell_type": "markdown",
   "metadata": {},
   "source": [
    "### Matriz Logistica"
   ]
  },
  {
   "cell_type": "code",
   "execution_count": null,
   "metadata": {},
   "outputs": [],
   "source": [
    "logistica.plot_matriz_confusion(\"logistic_regression\",invertir=False,labels=True,label0=\"No\",label1=\"Si\")"
   ]
  },
  {
   "cell_type": "markdown",
   "metadata": {},
   "source": [
    "### Precisión (Accuracy), Precisión (Precision), exhaustividad (Recall) y F1-Score."
   ]
  },
  {
   "cell_type": "code",
   "execution_count": null,
   "metadata": {},
   "outputs": [],
   "source": [
    "# llamamos al metodo para obtener los resultaods de las predicciones\n",
    "df_resultados = logistica.calcular_metricas(modelo_nombre =  \"logistic_regression\")\n",
    "df_resultados.T"
   ]
  },
  {
   "cell_type": "markdown",
   "metadata": {},
   "source": [
    "### Curva ROC"
   ]
  },
  {
   "cell_type": "code",
   "execution_count": null,
   "metadata": {},
   "outputs": [],
   "source": [
    "logistica.plot_curva_ROC()"
   ]
  },
  {
   "cell_type": "markdown",
   "metadata": {},
   "source": [
    "### Importancia"
   ]
  },
  {
   "cell_type": "code",
   "execution_count": null,
   "metadata": {},
   "outputs": [],
   "source": [
    "# Mostramos la importancia de los predictores en el modelo regresión logística\n",
    "logistica.importancia_predictores(modelo_nombre ='logistic_regression')"
   ]
  },
  {
   "cell_type": "markdown",
   "metadata": {},
   "source": [
    "### Shap Plots"
   ]
  },
  {
   "cell_type": "code",
   "execution_count": null,
   "metadata": {},
   "outputs": [],
   "source": [
    "logistica.plot_shap_summary(modelo_nombre ='logistic_regression')"
   ]
  },
  {
   "cell_type": "code",
   "execution_count": null,
   "metadata": {},
   "outputs": [],
   "source": [
    "# instanciamos la clase de regresión logistica\n",
    "logistica = sal.AnalisisModelosClasificacion(dataframe = df, variable_dependiente = \"is_fraudulent\",train_size=0.8)\n",
    "\n",
    "# llamamos a la función para ajustar el modelo\n",
    "logistica.ajustar_modelo(\"logistic_regression\",param_grid = params_logistic,ruta_guardar_modelo=\"../datos/modelos-encoders/\",nombre_modelo_guardar=\"logistic_model.pkl\")"
   ]
  },
  {
   "cell_type": "markdown",
   "metadata": {},
   "source": [
    "# Decision Tree"
   ]
  },
  {
   "cell_type": "markdown",
   "metadata": {},
   "source": [
    "### Matriz Logistica"
   ]
  },
  {
   "cell_type": "code",
   "execution_count": null,
   "metadata": {},
   "outputs": [],
   "source": [
    "logistica.plot_matriz_confusion(\"logistic_regression\",invertir=False,labels=True,label0=\"No\",label1=\"Si\")"
   ]
  },
  {
   "cell_type": "markdown",
   "metadata": {},
   "source": [
    "### Precisión (Accuracy), Precisión (Precision), exhaustividad (Recall) y F1-Score."
   ]
  },
  {
   "cell_type": "code",
   "execution_count": null,
   "metadata": {},
   "outputs": [],
   "source": [
    "# llamamos al metodo para obtener los resultaods de las predicciones\n",
    "df_resultados = logistica.calcular_metricas(modelo_nombre =  \"logistic_regression\")\n",
    "df_resultados.T"
   ]
  },
  {
   "cell_type": "markdown",
   "metadata": {},
   "source": [
    "### Curva ROC"
   ]
  },
  {
   "cell_type": "code",
   "execution_count": null,
   "metadata": {},
   "outputs": [],
   "source": [
    "logistica.plot_curva_ROC()"
   ]
  },
  {
   "cell_type": "markdown",
   "metadata": {},
   "source": [
    "### Importancia"
   ]
  },
  {
   "cell_type": "code",
   "execution_count": null,
   "metadata": {},
   "outputs": [],
   "source": [
    "# Mostramos la importancia de los predictores en el modelo regresión logística\n",
    "logistica.importancia_predictores(modelo_nombre ='logistic_regression')"
   ]
  },
  {
   "cell_type": "markdown",
   "metadata": {},
   "source": [
    "### Shap Plots"
   ]
  },
  {
   "cell_type": "code",
   "execution_count": null,
   "metadata": {},
   "outputs": [],
   "source": [
    "logistica.plot_shap_summary(modelo_nombre ='logistic_regression')"
   ]
  },
  {
   "cell_type": "markdown",
   "metadata": {},
   "source": [
    "# Random Forest"
   ]
  },
  {
   "cell_type": "code",
   "execution_count": null,
   "metadata": {},
   "outputs": [],
   "source": [
    "# instanciamos la clase de regresión logistica\n",
    "logistica = sal.AnalisisModelosClasificacion(dataframe = df, variable_dependiente = \"is_fraudulent\",train_size=0.8)\n",
    "\n",
    "# llamamos a la función para ajustar el modelo\n",
    "logistica.ajustar_modelo(\"logistic_regression\",param_grid = params_logistic,ruta_guardar_modelo=\"../datos/modelos-encoders/\",nombre_modelo_guardar=\"logistic_model.pkl\")"
   ]
  },
  {
   "cell_type": "markdown",
   "metadata": {},
   "source": [
    "### Matriz Logistica"
   ]
  },
  {
   "cell_type": "code",
   "execution_count": null,
   "metadata": {},
   "outputs": [],
   "source": [
    "logistica.plot_matriz_confusion(\"logistic_regression\",invertir=False,labels=True,label0=\"No\",label1=\"Si\")"
   ]
  },
  {
   "cell_type": "markdown",
   "metadata": {},
   "source": [
    "### Precisión (Accuracy), Precisión (Precision), exhaustividad (Recall) y F1-Score."
   ]
  },
  {
   "cell_type": "code",
   "execution_count": null,
   "metadata": {},
   "outputs": [],
   "source": [
    "# llamamos al metodo para obtener los resultaods de las predicciones\n",
    "df_resultados = logistica.calcular_metricas(modelo_nombre =  \"logistic_regression\")\n",
    "df_resultados.T"
   ]
  },
  {
   "cell_type": "markdown",
   "metadata": {},
   "source": [
    "### Curva ROC"
   ]
  },
  {
   "cell_type": "code",
   "execution_count": null,
   "metadata": {},
   "outputs": [],
   "source": [
    "logistica.plot_curva_ROC()"
   ]
  },
  {
   "cell_type": "markdown",
   "metadata": {},
   "source": [
    "### Importancia"
   ]
  },
  {
   "cell_type": "code",
   "execution_count": null,
   "metadata": {},
   "outputs": [],
   "source": [
    "# Mostramos la importancia de los predictores en el modelo regresión logística\n",
    "logistica.importancia_predictores(modelo_nombre ='logistic_regression')"
   ]
  },
  {
   "cell_type": "markdown",
   "metadata": {},
   "source": [
    "### Shap Plots"
   ]
  },
  {
   "cell_type": "code",
   "execution_count": null,
   "metadata": {},
   "outputs": [],
   "source": [
    "logistica.plot_shap_summary(modelo_nombre ='logistic_regression')"
   ]
  },
  {
   "cell_type": "markdown",
   "metadata": {},
   "source": [
    "# Gradient Boosting"
   ]
  },
  {
   "cell_type": "code",
   "execution_count": null,
   "metadata": {},
   "outputs": [],
   "source": [
    "# instanciamos la clase de regresión logistica\n",
    "logistica = sal.AnalisisModelosClasificacion(dataframe = df, variable_dependiente = \"is_fraudulent\",train_size=0.8)\n",
    "\n",
    "# llamamos a la función para ajustar el modelo\n",
    "logistica.ajustar_modelo(\"logistic_regression\",param_grid = params_logistic,ruta_guardar_modelo=\"../datos/modelos-encoders/\",nombre_modelo_guardar=\"logistic_model.pkl\")"
   ]
  },
  {
   "cell_type": "markdown",
   "metadata": {},
   "source": [
    "### Matriz Logistica"
   ]
  },
  {
   "cell_type": "code",
   "execution_count": null,
   "metadata": {},
   "outputs": [],
   "source": [
    "logistica.plot_matriz_confusion(\"logistic_regression\",invertir=False,labels=True,label0=\"No\",label1=\"Si\")"
   ]
  },
  {
   "cell_type": "markdown",
   "metadata": {},
   "source": [
    "### Precisión (Accuracy), Precisión (Precision), exhaustividad (Recall) y F1-Score."
   ]
  },
  {
   "cell_type": "code",
   "execution_count": null,
   "metadata": {},
   "outputs": [],
   "source": [
    "# llamamos al metodo para obtener los resultaods de las predicciones\n",
    "df_resultados = logistica.calcular_metricas(modelo_nombre =  \"logistic_regression\")\n",
    "df_resultados.T"
   ]
  },
  {
   "cell_type": "markdown",
   "metadata": {},
   "source": [
    "### Curva ROC"
   ]
  },
  {
   "cell_type": "code",
   "execution_count": null,
   "metadata": {},
   "outputs": [],
   "source": [
    "logistica.plot_curva_ROC()"
   ]
  },
  {
   "cell_type": "markdown",
   "metadata": {},
   "source": [
    "### Importancia"
   ]
  },
  {
   "cell_type": "code",
   "execution_count": null,
   "metadata": {},
   "outputs": [],
   "source": [
    "# Mostramos la importancia de los predictores en el modelo regresión logística\n",
    "logistica.importancia_predictores(modelo_nombre ='logistic_regression')"
   ]
  },
  {
   "cell_type": "markdown",
   "metadata": {},
   "source": [
    "### Shap Plots"
   ]
  },
  {
   "cell_type": "code",
   "execution_count": null,
   "metadata": {},
   "outputs": [],
   "source": [
    "logistica.plot_shap_summary(modelo_nombre ='logistic_regression')"
   ]
  },
  {
   "cell_type": "markdown",
   "metadata": {},
   "source": [
    "# XGBooster"
   ]
  },
  {
   "cell_type": "code",
   "execution_count": null,
   "metadata": {},
   "outputs": [],
   "source": [
    "# instanciamos la clase de regresión logistica\n",
    "logistica = sal.AnalisisModelosClasificacion(dataframe = df, variable_dependiente = \"is_fraudulent\",train_size=0.8)\n",
    "\n",
    "# llamamos a la función para ajustar el modelo\n",
    "logistica.ajustar_modelo(\"logistic_regression\",param_grid = params_logistic,ruta_guardar_modelo=\"../datos/modelos-encoders/\",nombre_modelo_guardar=\"logistic_model.pkl\")"
   ]
  },
  {
   "cell_type": "markdown",
   "metadata": {},
   "source": [
    "### Matriz Logistica"
   ]
  },
  {
   "cell_type": "code",
   "execution_count": null,
   "metadata": {},
   "outputs": [],
   "source": [
    "logistica.plot_matriz_confusion(\"logistic_regression\",invertir=False,labels=True,label0=\"No\",label1=\"Si\")"
   ]
  },
  {
   "cell_type": "markdown",
   "metadata": {},
   "source": [
    "### Precisión (Accuracy), Precisión (Precision), exhaustividad (Recall) y F1-Score."
   ]
  },
  {
   "cell_type": "code",
   "execution_count": null,
   "metadata": {},
   "outputs": [],
   "source": [
    "# llamamos al metodo para obtener los resultaods de las predicciones\n",
    "df_resultados = logistica.calcular_metricas(modelo_nombre =  \"logistic_regression\")\n",
    "df_resultados.T"
   ]
  },
  {
   "cell_type": "markdown",
   "metadata": {},
   "source": [
    "### Curva ROC"
   ]
  },
  {
   "cell_type": "code",
   "execution_count": null,
   "metadata": {},
   "outputs": [],
   "source": [
    "logistica.plot_curva_ROC()"
   ]
  },
  {
   "cell_type": "markdown",
   "metadata": {},
   "source": [
    "### Importancia"
   ]
  },
  {
   "cell_type": "code",
   "execution_count": null,
   "metadata": {},
   "outputs": [],
   "source": [
    "# Mostramos la importancia de los predictores en el modelo regresión logística\n",
    "logistica.importancia_predictores(modelo_nombre ='logistic_regression')"
   ]
  },
  {
   "cell_type": "markdown",
   "metadata": {},
   "source": [
    "### Shap Plots"
   ]
  },
  {
   "cell_type": "code",
   "execution_count": null,
   "metadata": {},
   "outputs": [],
   "source": [
    "logistica.plot_shap_summary(modelo_nombre ='logistic_regression')"
   ]
  }
 ],
 "metadata": {
  "kernelspec": {
   "display_name": "Python 3",
   "language": "python",
   "name": "python3"
  },
  "language_info": {
   "codemirror_mode": {
    "name": "ipython",
    "version": 3
   },
   "file_extension": ".py",
   "mimetype": "text/x-python",
   "name": "python",
   "nbconvert_exporter": "python",
   "pygments_lexer": "ipython3",
   "version": "3.11.9"
  }
 },
 "nbformat": 4,
 "nbformat_minor": 2
}
